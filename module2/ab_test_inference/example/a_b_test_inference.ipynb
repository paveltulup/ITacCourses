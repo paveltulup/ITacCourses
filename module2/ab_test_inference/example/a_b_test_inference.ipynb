{
 "cells": [
  {
   "cell_type": "markdown",
   "metadata": {
    "collapsed": false,
    "pycharm": {
     "name": "#%% md\n"
    }
   },
   "source": [
    "В данном ноутбуке мы с вами рассмотрим как анализировать результаты А/В тестирования (эксперимента). Начиная от формулирования гипотезы, её тестированием и интерпритацией результатов.\n",
    "К ноутбуку прикреплен файл ab_test.csv который содержит информацию о тестировании 2-ух вариантов дизайна веб-сайта (категории old_page и new_page).\n",
    "-----\n",
    "\n",
    "Как устроен процесс:\n",
    "1. Дизайн эксперимента.\n",
    "2. Сбор данных и их подготовка.\n",
    "3. Визуализация результатов.\n",
    "4. Тестирование гипотезы.\n",
    "5. Вывод и интерпритация полученных результатов.\n",
    "\n",
    "----\n",
    "\n",
    "Потенциальный сценарий:\n",
    "Продуктовая команда крупного e-commerce холдинга в РБ, которая отвечает за дизайн и разработку веб-сайта, совместо со своим UI/UX долгое время работала над крутой и удобной версией дизайна сайта с надеждой увеличить показатель конверсии потенциальных клиентов. Продукт-Менеджер и Бизнес-Аналитик компании заявили о том, что текущий средний уровень конверсии за год составил 13% и было бы классно если бы мы смогли увеличить показатель конверсии на 2%. Таким образом команда предполагает что новый дизайн сайта может увеличить показтель конверсии до 15%\n",
    "\n",
    "\n",
    "Прежде чем выкатывать новую версию сайта в продакшн, команда решила сначала провести тестирование обоих вариантов на маленькой выборке пользователей, чтобы убедиться что новая версия действительно оказывает влияние на конверсию, то есть решили реализовать A/B тест.\n"
   ]
  },
  {
   "cell_type": "markdown",
   "metadata": {
    "collapsed": false,
    "pycharm": {
     "name": "#%% md\n"
    }
   },
   "source": [
    "# 1. Дизайн эксперимента\n",
    "\n",
    "\n",
    "Прежде чем приступить к основному тестированию, необходимо определиться с гипотезами. Это позволит убедиться в том, что интерпритация полученных результатов является правильной и мы не ошибемся.\n",
    "Посколько мы заранее не имеем представления о том, будет ли новый дизайн сайта работать лучше или хуже чем текущий вариант сайта, мы выбираем двусторонний статистический тест [Two-Tailed Test](https://towardsdatascience.com/hypothesis-testing-2-tailed-test-42f0d5ef1071)\n",
    "\n",
    "\n",
    "H0 : p  = p0\n",
    "H  : p != p0\n",
    "\n",
    "где p и p0 означают коэффициенты конверсии между новым и старым вариантами соответственно. Так же необходимо выбрать уровень доверия (confidence level). В нашем случае мы решили что это будет 95%.\n",
    "Имея уровень доверия в 95% необходимо рассчитать показатель альфа, который будет равен (1 - 0.95) для нашего теста = 0.05.\n",
    "\n",
    "-----\n",
    "Альфа — это очень важная в мире статистики величина, связанная с рядом других ключевых понятий, влияющих на сплит-тестирование и определяющая, насколько точными будут результаты тестов.\n",
    "Альфа математически взаимосвязана с такими показателями как:\n",
    "* p-значение (p-value). Это величина, используемая при тестировании статистических гипотез. Фактически это вероятность ошибки при отклонении нулевой гипотезы;\n",
    "* значимость (Significant), то есть взаимная связь между двумя группами наблюдений, позволяющая выявить различие между ними. Пожалуй, самый сложный для понимания термин, поскольку само слово может ввести в заблуждение;\n",
    "* уровень доверия к результатам (Confidence Level).\n",
    "При этом все эти три показателя, а также сам коэффициент Альфа, часто путают между собой. Чтобы внести ясность, стоит разобраться, как эти понятия соотносятся друг с другом.\n",
    "\n",
    "\n",
    "\n",
    "https://cxl.com/blog/statistical-power/\n",
    "\n",
    "----\n",
    "\n",
    "Простым языком, альфа - это тот порог, который мы устанавливаем. Интерпритация альфы чаще всего следующая: \"Если вероятность наблюдения экстремальных значений (p-значение) меньше чем альфа, то тогда мы с легкостью можем отклонить Нулевую гипотезу.\"\n",
    "Так как наш уровень альфы 0.05 (обозначающий 5% -ую вероятность), то наш доверительный интервал (1-0.05) = 0.95 или 95%\n",
    "\n",
    "Итого вне зависимости от того какой уровень конверсии мы будем наблюдать для нашего нового дизайна, мы хотим быть уверены на 95% что он статистически отличается от того уровня конверсии, который принадлежит старой версии прежде чем мы решим отклонить нулевую гипотезу H0\n",
    "\n",
    "----\n",
    "\n",
    "Для проведения A/B тестирования нам необходимо 2 группы испытемых:\n",
    "1. Контрольная (Control) группа - та группа пользователей, которым будет показываться старая версия сайта.\n",
    "2. Эксперементальная (Treatment) группа - та группа пользователей, которым будет показываться новая версия сайта.\n",
    "\n",
    "\n",
    "Почему у нас 2 группы не смотря на то, что мы уже знаем наш средний показатель конверсии?\n",
    "Причина заключается в том, что мы хотим иметь возможность контроллировать и другие переменные для нашего анализа, которые также могут повлиять на результаты (например сезонность, возрастная группа, локация и так далее).\n",
    "Имея контрольную группу мы можем напрямую сравнивать результаты двух выборок, потому что единственное изменение между групами - дизайн сайта. И все различия мы можем отнести к тому, что мы поменяли дизайн сайта.\n",
    "\n",
    "\n",
    "Нашей целевой переменной (Dependant Variable) будет выступать - уровень конверсии (conversion_rate). Целевая переменная представленна бинарно:\n",
    "0 - пользователь не купил ничего в течение своей сессии на сайте\n",
    "1 - пользователь купил продукт в течение своей сессии на сайте\n",
    "\n",
    "\n",
    "\n",
    "Сессия - термин, используемый для того, чтобы обозначить время проведенное пользователем на сайте (веб-приложении, мобильном приложении)\n"
   ]
  },
  {
   "cell_type": "code",
   "execution_count": null,
   "metadata": {
    "collapsed": false,
    "pycharm": {
     "name": "#%%\n"
    }
   },
   "outputs": [],
   "source": [
    "# Установим модули - просто уберите комментарии и запустите ячейку с кодом, комментарий обозначется символом #\n",
    "# ! pip install numpy pandas scipy statsmodels matplotlib seaborn"
   ]
  },
  {
   "cell_type": "code",
   "execution_count": 63,
   "metadata": {
    "collapsed": false,
    "pycharm": {
     "name": "#%%\n"
    }
   },
   "outputs": [],
   "source": [
    "# Импортируем библиотеки\n",
    "import numpy as np\n",
    "import pandas as pd\n",
    "import scipy.stats as stats\n",
    "import statsmodels.stats.api as sms\n",
    "import matplotlib as mpl\n",
    "import matplotlib.pyplot as plt\n",
    "import seaborn as sns\n",
    "from math import ceil\n",
    "\n",
    "# Настройки отображения графиков\n",
    "%matplotlib inline\n",
    "# Стили графиков -> обращайтесь в документацию по seaborn https://seaborn.pydata.org/generated/seaborn.set_style.html\n",
    "plt.style.use('seaborn-whitegrid')\n",
    "font = {'family' : 'Helvetica',\n",
    "        'weight' : 'bold',\n",
    "        'size'   : 14}\n",
    "mpl.rc('font', **font)"
   ]
  },
  {
   "cell_type": "markdown",
   "metadata": {
    "collapsed": false,
    "pycharm": {
     "name": "#%% md\n"
    }
   },
   "source": [
    "# Определение размера контрольной и испытуемой выборок.\n",
    "\n",
    "Так как мы не проводим испытание на всей генеральной совокупности, полученный уровень конверсии лишь будет апроксимировать целевой показатель.\n",
    "Количество людей, которые мы включим в наш эксперимент, напрямую влияет на точность наших выборочных оценок (Вспомните Central Limit Theorem).\n",
    "Таким образом, чем больше размер выборки, тем точнее наши оценки к генеральной совокупности (то есть наши доверительные интервалы содержат меньшую Marginal Error) и у нас выше шанс обнаружить разницу в 2 группах в случае если она присутствует.\n",
    "\n",
    "\n",
    "----\n",
    "Сколько испытуемых должно быть в нашем эксперименте?\n",
    "----\n",
    "Чтобы определить размер выборки необходиом провести Анализ Мощности Выборки (Power Analysis and Sample Size) - отдельная область статистики, которой посвящен целый семестр в ВУЗе. [Подробнее](https://www.graphpad.com/support/faq/how-to-use-power-analysis-to-determine-the-appropriate-sample-size-of-a-study/)\n",
    "\n",
    "\n",
    "Анализ мощности выборки зависит от нескольких факторов:\n",
    "1. Мощность теста (1 - бетта) - представляет с собой вероятность найти статистические различия между групами в тесте если действительно существует разница между групами. Обычно кастомным показателем в большинстве тестов выбирают 0.8\n",
    "2. Альфа фактов (альфа) - критическое значение, которое мы установили выше 0.05\n",
    "3. Эффект/Размер эффекта/Размах Эффекта - то насколько сильна разница между двумя целевыми показателям (нам необходимо 2% между двумя групами).\n",
    "\n",
    "К нашему счастью, Python комьюнити предоставило нам модуль statsmodels который сделает всю грязную работу за нас:"
   ]
  },
  {
   "cell_type": "code",
   "execution_count": 65,
   "metadata": {
    "collapsed": false,
    "pycharm": {
     "name": "#%%\n"
    }
   },
   "outputs": [
    {
     "name": "stdout",
     "output_type": "stream",
     "text": [
      "Для каждой группы нам необходимо не меньше  4720  наблюдений\n"
     ]
    }
   ],
   "source": [
    "# Считаем размер эффекта -> https://www.statsmodels.org/dev/generated/statsmodels.stats.proportion.proportion_effectsize.html\n",
    "effect_size = sms.proportion_effectsize(0.13, 0.15)\n",
    "# Cчитаем необходимый размер выборки -> https://www.statsmodels.org/dev/generated/statsmodels.stats.power.NormalIndPower.html?highlight=normalindpower\n",
    "# https://www.statsmodels.org/dev/generated/statsmodels.stats.power.NormalIndPower.solve_power.html#statsmodels.stats.power.NormalIndPower.solve_power\n",
    "required_n = sms.NormalIndPower().solve_power(effect_size, power=0.8, alpha=0.05, ratio=1) # Calculating sample size needed\n",
    "# Округляем до ближайшего целого\n",
    "required_n = ceil(required_n)\n",
    "print(\"Для каждой группы нам необходимо не меньше \",required_n, \" наблюдений\")"
   ]
  },
  {
   "cell_type": "markdown",
   "metadata": {
    "collapsed": false,
    "pycharm": {
     "name": "#%% md\n"
    }
   },
   "source": [
    "# 2. Сбор данных и их подготовка\n",
    "\n",
    "Таким образом мы получили ответ на вопрос, сколько людей нам необходимо для проведения эксмеримента. На данном этапе вы топаете ножками к вашей Back-End команде либо Data Engineering команде и объясняете суть эксперимента, устанавливайте условия эксперимента, оцениваете его сроки (зависит от потока траффика на ваш сайт/приложение и считаете за сколько времени вы наберете необходимое количество пользователей).\n",
    "\n",
    "Мы же будем использовать симуляционный датасет, чтобы смоделировать ситуацию."
   ]
  },
  {
   "cell_type": "code",
   "execution_count": 78,
   "metadata": {
    "collapsed": false,
    "pycharm": {
     "name": "#%%\n"
    }
   },
   "outputs": [
    {
     "data": {
      "text/html": [
       "<div>\n",
       "<style scoped>\n",
       "    .dataframe tbody tr th:only-of-type {\n",
       "        vertical-align: middle;\n",
       "    }\n",
       "\n",
       "    .dataframe tbody tr th {\n",
       "        vertical-align: top;\n",
       "    }\n",
       "\n",
       "    .dataframe thead th {\n",
       "        text-align: right;\n",
       "    }\n",
       "</style>\n",
       "<table border=\"1\" class=\"dataframe\">\n",
       "  <thead>\n",
       "    <tr style=\"text-align: right;\">\n",
       "      <th></th>\n",
       "      <th>user_id</th>\n",
       "      <th>timestamp</th>\n",
       "      <th>group</th>\n",
       "      <th>landing_page</th>\n",
       "      <th>converted</th>\n",
       "    </tr>\n",
       "  </thead>\n",
       "  <tbody>\n",
       "    <tr>\n",
       "      <th>0</th>\n",
       "      <td>804228</td>\n",
       "      <td>2017-01-12 08:01:45.159739</td>\n",
       "      <td>control</td>\n",
       "      <td>old_page</td>\n",
       "      <td>0</td>\n",
       "    </tr>\n",
       "    <tr>\n",
       "      <th>1</th>\n",
       "      <td>853541</td>\n",
       "      <td>2017-01-08 18:28:03.143765</td>\n",
       "      <td>treatment</td>\n",
       "      <td>new_page</td>\n",
       "      <td>0</td>\n",
       "    </tr>\n",
       "    <tr>\n",
       "      <th>2</th>\n",
       "      <td>936923</td>\n",
       "      <td>2017-01-10 15:20:49.083499</td>\n",
       "      <td>control</td>\n",
       "      <td>old_page</td>\n",
       "      <td>0</td>\n",
       "    </tr>\n",
       "    <tr>\n",
       "      <th>3</th>\n",
       "      <td>719014</td>\n",
       "      <td>2017-01-17 01:48:29.539573</td>\n",
       "      <td>control</td>\n",
       "      <td>old_page</td>\n",
       "      <td>0</td>\n",
       "    </tr>\n",
       "    <tr>\n",
       "      <th>4</th>\n",
       "      <td>839785</td>\n",
       "      <td>2017-01-15 18:11:06.610965</td>\n",
       "      <td>treatment</td>\n",
       "      <td>new_page</td>\n",
       "      <td>1</td>\n",
       "    </tr>\n",
       "    <tr>\n",
       "      <th>5</th>\n",
       "      <td>834487</td>\n",
       "      <td>2017-01-21 22:37:47.774891</td>\n",
       "      <td>treatment</td>\n",
       "      <td>new_page</td>\n",
       "      <td>0</td>\n",
       "    </tr>\n",
       "    <tr>\n",
       "      <th>6</th>\n",
       "      <td>944475</td>\n",
       "      <td>2017-01-22 01:31:09.573836</td>\n",
       "      <td>treatment</td>\n",
       "      <td>new_page</td>\n",
       "      <td>0</td>\n",
       "    </tr>\n",
       "    <tr>\n",
       "      <th>7</th>\n",
       "      <td>644214</td>\n",
       "      <td>2017-01-22 02:05:21.719434</td>\n",
       "      <td>control</td>\n",
       "      <td>old_page</td>\n",
       "      <td>1</td>\n",
       "    </tr>\n",
       "    <tr>\n",
       "      <th>8</th>\n",
       "      <td>888545</td>\n",
       "      <td>2017-01-08 06:37:26.332945</td>\n",
       "      <td>treatment</td>\n",
       "      <td>new_page</td>\n",
       "      <td>1</td>\n",
       "    </tr>\n",
       "    <tr>\n",
       "      <th>9</th>\n",
       "      <td>935734</td>\n",
       "      <td>2017-01-17 20:33:37.428378</td>\n",
       "      <td>control</td>\n",
       "      <td>old_page</td>\n",
       "      <td>0</td>\n",
       "    </tr>\n",
       "  </tbody>\n",
       "</table>\n",
       "</div>"
      ],
      "text/plain": [
       "   user_id                   timestamp      group landing_page  converted\n",
       "0   804228  2017-01-12 08:01:45.159739    control     old_page          0\n",
       "1   853541  2017-01-08 18:28:03.143765  treatment     new_page          0\n",
       "2   936923  2017-01-10 15:20:49.083499    control     old_page          0\n",
       "3   719014  2017-01-17 01:48:29.539573    control     old_page          0\n",
       "4   839785  2017-01-15 18:11:06.610965  treatment     new_page          1\n",
       "5   834487  2017-01-21 22:37:47.774891  treatment     new_page          0\n",
       "6   944475  2017-01-22 01:31:09.573836  treatment     new_page          0\n",
       "7   644214  2017-01-22 02:05:21.719434    control     old_page          1\n",
       "8   888545  2017-01-08 06:37:26.332945  treatment     new_page          1\n",
       "9   935734  2017-01-17 20:33:37.428378    control     old_page          0"
      ]
     },
     "execution_count": 78,
     "metadata": {},
     "output_type": "execute_result"
    }
   ],
   "source": [
    "df = pd.read_csv('./ab_inference.csv')\n",
    "df.head(10)"
   ]
  },
  {
   "cell_type": "code",
   "execution_count": 2,
   "metadata": {
    "collapsed": false,
    "pycharm": {
     "name": "#%%\n"
    }
   },
   "outputs": [
    {
     "ename": "NameError",
     "evalue": "name 'df' is not defined",
     "output_type": "error",
     "traceback": [
      "\u001b[1;31m---------------------------------------------------------------------------\u001b[0m",
      "\u001b[1;31mNameError\u001b[0m                                 Traceback (most recent call last)",
      "\u001b[1;32m~\\AppData\\Local\\Temp\\ipykernel_10636\\3771845804.py\u001b[0m in \u001b[0;36m<cell line: 1>\u001b[1;34m()\u001b[0m\n\u001b[1;32m----> 1\u001b[1;33m \u001b[0mdf\u001b[0m\u001b[1;33m.\u001b[0m\u001b[0minfo\u001b[0m\u001b[1;33m(\u001b[0m\u001b[1;33m)\u001b[0m\u001b[1;33m\u001b[0m\u001b[1;33m\u001b[0m\u001b[0m\n\u001b[0m",
      "\u001b[1;31mNameError\u001b[0m: name 'df' is not defined"
     ]
    }
   ],
   "source": [
    "df.info()"
   ]
  },
  {
   "cell_type": "code",
   "execution_count": 1,
   "metadata": {
    "collapsed": false,
    "pycharm": {
     "name": "#%%\n"
    }
   },
   "outputs": [
    {
     "ename": "NameError",
     "evalue": "name 'pd' is not defined",
     "output_type": "error",
     "traceback": [
      "\u001b[1;31m---------------------------------------------------------------------------\u001b[0m",
      "\u001b[1;31mNameError\u001b[0m                                 Traceback (most recent call last)",
      "\u001b[1;32m~\\AppData\\Local\\Temp\\ipykernel_14384\\1724144625.py\u001b[0m in \u001b[0;36m<cell line: 2>\u001b[1;34m()\u001b[0m\n\u001b[0;32m      1\u001b[0m \u001b[1;31m# Убедимся, что контрольная группа и испытуемая видят старую страницу и новую -> https://pandas.pydata.org/docs/reference/api/pandas.crosstab.html\u001b[0m\u001b[1;33m\u001b[0m\u001b[1;33m\u001b[0m\u001b[0m\n\u001b[1;32m----> 2\u001b[1;33m \u001b[0mpd\u001b[0m\u001b[1;33m.\u001b[0m\u001b[0mcrosstab\u001b[0m\u001b[1;33m(\u001b[0m\u001b[0mdf\u001b[0m\u001b[1;33m[\u001b[0m\u001b[1;34m'group'\u001b[0m\u001b[1;33m]\u001b[0m\u001b[1;33m,\u001b[0m \u001b[0mdf\u001b[0m\u001b[1;33m[\u001b[0m\u001b[1;34m'landing_page'\u001b[0m\u001b[1;33m]\u001b[0m\u001b[1;33m)\u001b[0m\u001b[1;33m\u001b[0m\u001b[1;33m\u001b[0m\u001b[0m\n\u001b[0m",
      "\u001b[1;31mNameError\u001b[0m: name 'pd' is not defined"
     ]
    }
   ],
   "source": [
    "# Убедимся, что контрольная группа и испытуемая видят старую страницу и новую -> https://pandas.pydata.org/docs/reference/api/pandas.crosstab.html\n",
    "pd.crosstab(df['group'], df['landing_page'])"
   ]
  },
  {
   "cell_type": "markdown",
   "metadata": {
    "collapsed": false,
    "pycharm": {
     "name": "#%% md\n"
    }
   },
   "source": [
    "Прежде чем продолжим, давайте проверим данные на предмет дубликатов пользователей из нашей выборки. Бывает такое, что пользователь купил сначала в 1 группе, затем во второй 2. Что делать с этим - гуглить."
   ]
  },
  {
   "cell_type": "code",
   "execution_count": 81,
   "metadata": {
    "collapsed": false,
    "pycharm": {
     "name": "#%%\n"
    }
   },
   "outputs": [
    {
     "name": "stdout",
     "output_type": "stream",
     "text": [
      "У нас имеются 940 пользователей, которые не уникальны в нашей выборке.\n"
     ]
    }
   ],
   "source": [
    "sessions = df['user_id'].value_counts(ascending=False)\n",
    "duplicate_users = sessions[sessions > 1].count()\n",
    "print(f\"У нас имеются {duplicate_users} пользователей, которые не уникальны в нашей выборке.\")"
   ]
  },
  {
   "cell_type": "markdown",
   "metadata": {
    "collapsed": false,
    "pycharm": {
     "name": "#%% md\n"
    }
   },
   "source": [
    "Так как количество \"дубликатов\" пользователей относительно невелико (относительно к общему объему выборки) ради того, чтобы пойти по простому пути удалим их. Есть и другие варианты. Что делать с этим - гуглить."
   ]
  },
  {
   "cell_type": "code",
   "execution_count": 82,
   "metadata": {
    "collapsed": false,
    "pycharm": {
     "name": "#%%\n"
    }
   },
   "outputs": [
    {
     "name": "stdout",
     "output_type": "stream",
     "text": [
      "Количество пользователей без дубликтов 145359\n"
     ]
    }
   ],
   "source": [
    "users_to_drop = sessions[sessions > 1].index\n",
    "# Проверяем вхождения, знак ~ логическо нет\n",
    "df = df[~df['user_id'].isin(users_to_drop)]\n",
    "print(f\"Количество пользователей без дубликтов {df.shape[0]}\")"
   ]
  },
  {
   "cell_type": "markdown",
   "metadata": {
    "collapsed": false,
    "pycharm": {
     "name": "#%% md\n"
    }
   },
   "source": [
    "Так как мы почистили нашу выборку - время провести \"эксперимент\" и случайным образом достать по 4720 пользователей для каждой группы испытуемых. Существует метод Pandas который называется DataFrame.sample() Он позволяет провести простой случайный отбор."
   ]
  },
  {
   "cell_type": "code",
   "execution_count": 113,
   "metadata": {
    "collapsed": false,
    "pycharm": {
     "name": "#%%\n"
    }
   },
   "outputs": [
    {
     "data": {
      "text/html": [
       "<div>\n",
       "<style scoped>\n",
       "    .dataframe tbody tr th:only-of-type {\n",
       "        vertical-align: middle;\n",
       "    }\n",
       "\n",
       "    .dataframe tbody tr th {\n",
       "        vertical-align: top;\n",
       "    }\n",
       "\n",
       "    .dataframe thead th {\n",
       "        text-align: right;\n",
       "    }\n",
       "</style>\n",
       "<table border=\"1\" class=\"dataframe\">\n",
       "  <thead>\n",
       "    <tr style=\"text-align: right;\">\n",
       "      <th></th>\n",
       "      <th>user_id</th>\n",
       "      <th>timestamp</th>\n",
       "      <th>group</th>\n",
       "      <th>landing_page</th>\n",
       "      <th>converted</th>\n",
       "    </tr>\n",
       "  </thead>\n",
       "  <tbody>\n",
       "    <tr>\n",
       "      <th>0</th>\n",
       "      <td>776785</td>\n",
       "      <td>2017-01-14 18:11:56.338867</td>\n",
       "      <td>control</td>\n",
       "      <td>old_page</td>\n",
       "      <td>0</td>\n",
       "    </tr>\n",
       "    <tr>\n",
       "      <th>1</th>\n",
       "      <td>883973</td>\n",
       "      <td>2017-01-21 10:19:44.765346</td>\n",
       "      <td>control</td>\n",
       "      <td>old_page</td>\n",
       "      <td>0</td>\n",
       "    </tr>\n",
       "    <tr>\n",
       "      <th>2</th>\n",
       "      <td>837257</td>\n",
       "      <td>2017-01-06 01:13:00.536187</td>\n",
       "      <td>control</td>\n",
       "      <td>old_page</td>\n",
       "      <td>0</td>\n",
       "    </tr>\n",
       "    <tr>\n",
       "      <th>3</th>\n",
       "      <td>675503</td>\n",
       "      <td>2017-01-06 13:01:20.284968</td>\n",
       "      <td>control</td>\n",
       "      <td>old_page</td>\n",
       "      <td>0</td>\n",
       "    </tr>\n",
       "    <tr>\n",
       "      <th>4</th>\n",
       "      <td>849937</td>\n",
       "      <td>2017-01-05 17:21:43.248399</td>\n",
       "      <td>control</td>\n",
       "      <td>old_page</td>\n",
       "      <td>0</td>\n",
       "    </tr>\n",
       "  </tbody>\n",
       "</table>\n",
       "</div>"
      ],
      "text/plain": [
       "   user_id                   timestamp    group landing_page  converted\n",
       "0   776785  2017-01-14 18:11:56.338867  control     old_page          0\n",
       "1   883973  2017-01-21 10:19:44.765346  control     old_page          0\n",
       "2   837257  2017-01-06 01:13:00.536187  control     old_page          0\n",
       "3   675503  2017-01-06 13:01:20.284968  control     old_page          0\n",
       "4   849937  2017-01-05 17:21:43.248399  control     old_page          0"
      ]
     },
     "execution_count": 113,
     "metadata": {},
     "output_type": "execute_result"
    }
   ],
   "source": [
    "control_sample = df[df['group'] == 'control'].sample(n = required_n, random_state=42)\n",
    "treatment_sample = df[df['group'] == 'treatment'].sample(n = required_n, random_state=42)\n",
    "\n",
    "# Сформируем общую случайную выборку\n",
    "ab_df = pd.concat([control_sample, treatment_sample], axis=0)\n",
    "ab_df.reset_index(drop=True, inplace=True)\n",
    "ab_df.head()"
   ]
  },
  {
   "cell_type": "code",
   "execution_count": 114,
   "metadata": {
    "collapsed": false,
    "pycharm": {
     "name": "#%%\n"
    }
   },
   "outputs": [
    {
     "name": "stdout",
     "output_type": "stream",
     "text": [
      "<class 'pandas.core.frame.DataFrame'>\n",
      "RangeIndex: 9440 entries, 0 to 9439\n",
      "Data columns (total 5 columns):\n",
      " #   Column        Non-Null Count  Dtype \n",
      "---  ------        --------------  ----- \n",
      " 0   user_id       9440 non-null   int64 \n",
      " 1   timestamp     9440 non-null   object\n",
      " 2   group         9440 non-null   object\n",
      " 3   landing_page  9440 non-null   object\n",
      " 4   converted     9440 non-null   int64 \n",
      "dtypes: int64(2), object(3)\n",
      "memory usage: 368.9+ KB\n"
     ]
    }
   ],
   "source": [
    "ab_df.info()"
   ]
  },
  {
   "cell_type": "code",
   "execution_count": 1,
   "metadata": {
    "collapsed": false,
    "pycharm": {
     "name": "#%%\n"
    }
   },
   "outputs": [
    {
     "ename": "NameError",
     "evalue": "name 'df' is not defined",
     "output_type": "error",
     "traceback": [
      "\u001b[1;31m---------------------------------------------------------------------------\u001b[0m",
      "\u001b[1;31mNameError\u001b[0m                                 Traceback (most recent call last)",
      "\u001b[1;32m~\\AppData\\Local\\Temp\\ipykernel_10636\\272635609.py\u001b[0m in \u001b[0;36m<cell line: 1>\u001b[1;34m()\u001b[0m\n\u001b[1;32m----> 1\u001b[1;33m \u001b[0mdf\u001b[0m\u001b[1;33m.\u001b[0m\u001b[0mgroup\u001b[0m\u001b[1;33m.\u001b[0m\u001b[0mvalue_counts\u001b[0m\u001b[1;33m(\u001b[0m\u001b[0mnormalize\u001b[0m\u001b[1;33m=\u001b[0m\u001b[1;32mTrue\u001b[0m\u001b[1;33m)\u001b[0m\u001b[1;33m\u001b[0m\u001b[1;33m\u001b[0m\u001b[0m\n\u001b[0m",
      "\u001b[1;31mNameError\u001b[0m: name 'df' is not defined"
     ]
    }
   ],
   "source": [
    "df.group.value_counts(normalize=True)"
   ]
  },
  {
   "cell_type": "markdown",
   "metadata": {
    "collapsed": false,
    "pycharm": {
     "name": "#%% md\n"
    }
   },
   "source": [
    "# 3. Визуализация Результатов Эксперимента\n",
    "\n",
    "Первым делом, что необходимо сделать - рассчитать выборочные статистики, чтобы понять каково распределение данных и как выглядят наши выборки:"
   ]
  },
  {
   "cell_type": "code",
   "execution_count": 116,
   "metadata": {
    "collapsed": false,
    "pycharm": {
     "name": "#%%\n"
    }
   },
   "outputs": [
    {
     "data": {
      "text/html": [
       "<div>\n",
       "<style scoped>\n",
       "    .dataframe tbody tr th:only-of-type {\n",
       "        vertical-align: middle;\n",
       "    }\n",
       "\n",
       "    .dataframe tbody tr th {\n",
       "        vertical-align: top;\n",
       "    }\n",
       "\n",
       "    .dataframe thead th {\n",
       "        text-align: right;\n",
       "    }\n",
       "</style>\n",
       "<table border=\"1\" class=\"dataframe\">\n",
       "  <thead>\n",
       "    <tr style=\"text-align: right;\">\n",
       "      <th></th>\n",
       "      <th>CR mean</th>\n",
       "      <th>CR std</th>\n",
       "      <th>CR se</th>\n",
       "    </tr>\n",
       "    <tr>\n",
       "      <th>group</th>\n",
       "      <th></th>\n",
       "      <th></th>\n",
       "      <th></th>\n",
       "    </tr>\n",
       "  </thead>\n",
       "  <tbody>\n",
       "    <tr>\n",
       "      <th>control</th>\n",
       "      <td>0.118432</td>\n",
       "      <td>0.323119</td>\n",
       "      <td>0.004703</td>\n",
       "    </tr>\n",
       "    <tr>\n",
       "      <th>treatment</th>\n",
       "      <td>0.120763</td>\n",
       "      <td>0.325851</td>\n",
       "      <td>0.004743</td>\n",
       "    </tr>\n",
       "  </tbody>\n",
       "</table>\n",
       "</div>"
      ],
      "text/plain": [
       "            CR mean    CR std     CR se\n",
       "group                                  \n",
       "control    0.118432  0.323119  0.004703\n",
       "treatment  0.120763  0.325851  0.004743"
      ]
     },
     "execution_count": 116,
     "metadata": {},
     "output_type": "execute_result"
    }
   ],
   "source": [
    "conversion_rates = ab_df.groupby('group')['converted']\n",
    "\n",
    "# Стандартное отклонение для сформированной выборки\n",
    "std_proportion = lambda x: np.std(x, ddof=0)\n",
    "# Стандартная ошибка для сформированной выборки, формулу стандартной ошибки вы знаете из лекций. Забыли - погуглите.\n",
    "se_proportion = lambda x: stats.sem(x, ddof=0)\n",
    "\n",
    "conversion_rates = conversion_rates.agg([np.mean, std_proportion, se_proportion]).rename(columns={'mean':'CR mean', '<lambda_0>':'CR std', '<lambda_1>':'CR se'})\n",
    "conversion_rates"
   ]
  },
  {
   "cell_type": "markdown",
   "metadata": {
    "collapsed": false,
    "pycharm": {
     "name": "#%% md\n"
    }
   },
   "source": [
    "Как мы видим по метрикам, два эксперимента +/- по выборочным статистикам показывают себя одинаково, за исключением выборочного среднего коэффициента конверсии ~11.8% против ~12.08%"
   ]
  },
  {
   "cell_type": "code",
   "execution_count": 118,
   "metadata": {
    "collapsed": false,
    "pycharm": {
     "name": "#%%\n"
    }
   },
   "outputs": [
    {
     "data": {
      "image/png": "[encoded data removed]",
      "text/plain": [
       "<Figure size 576x432 with 1 Axes>"
      ]
     },
     "metadata": {},
     "output_type": "display_data"
    }
   ],
   "source": [
    "plt.figure(figsize=(8,6));\n",
    "sns.barplot(x=ab_df['group'], y=ab_df['converted'], ci=False);\n",
    "plt.ylim(0, 0.17);\n",
    "plt.title('Conversion rate by experimental samples', pad=20)\n",
    "plt.xlabel('Group', labelpad=15);\n",
    "plt.ylabel('Converted (proportion)', labelpad=15);"
   ]
  },
  {
   "cell_type": "markdown",
   "metadata": {
    "collapsed": false,
    "pycharm": {
     "name": "#%% md\n"
    }
   },
   "source": [
    "Теперь главный вопрос:\n",
    "- Действительно ли разница между двумя группами испытуемых является статистически значимой? И какой же вариант нам стоит оставить?"
   ]
  },
  {
   "cell_type": "markdown",
   "metadata": {
    "collapsed": false,
    "pycharm": {
     "name": "#%% md\n"
    }
   },
   "source": [
    "# 4. Тестирование гипотезы\n",
    "\n",
    "Последним шагом в нашем анализе - остается построить инференциальный вывод (инференс, влияние). Так как у нас достаточно большая выборка, мы будем использовать нормальную аппроксимацию (в случае обратной ситуации с малой выборкой - как помним из лекции T-распределение). Мы можем рассчитать p-статистику (Z-test). Так как Python комьюнити богато исследователями, все за нас реализовали уже в пакете statsmodels. Как это делается:"
   ]
  },
  {
   "cell_type": "code",
   "execution_count": 120,
   "metadata": {
    "collapsed": false,
    "pycharm": {
     "name": "#%%\n"
    }
   },
   "outputs": [
    {
     "name": "stdout",
     "output_type": "stream",
     "text": [
      "Z-statistic: -0.35\n",
      "p-value: 0.727\n",
      "CI 95% for control group: [0.109, 0.128]\n",
      "CI 95% for treatment group: [0.111, 0.130]\n"
     ]
    }
   ],
   "source": [
    "from statsmodels.stats.proportion import proportions_ztest, proportion_confint\n",
    "\n",
    "control_results = ab_df[ab_df['group'] == 'control']['converted']\n",
    "treatment_results = ab_df[ab_df['group'] == 'treatment']['converted']\n",
    "\n",
    "n_con = control_results.count()\n",
    "n_treat = treatment_results.count()\n",
    "successes = [control_results.sum(), treatment_results.sum()]\n",
    "nobs = [n_con, n_treat]\n",
    "\n",
    "z_stat, pval = proportions_ztest(successes, nobs=nobs)\n",
    "(lower_con, lower_treat), (upper_con, upper_treat) = proportion_confint(successes, nobs=nobs, alpha=0.05)\n",
    "\n",
    "print(f'Z-statistic: {z_stat:.2f}')\n",
    "print(f'p-value: {pval:.3f}')\n",
    "print(f'CI 95% for control group: [{lower_con:.3f}, {upper_con:.3f}]')\n",
    "print(f'CI 95% for treatment group: [{lower_treat:.3f}, {upper_treat:.3f}]')"
   ]
  },
  {
   "cell_type": "markdown",
   "metadata": {
    "collapsed": false,
    "pycharm": {
     "name": "#%% md\n"
    }
   },
   "source": [
    "# 5. Интерпритация результатов"
   ]
  },
  {
   "cell_type": "markdown",
   "metadata": {
    "collapsed": false,
    "pycharm": {
     "name": "#%% md\n"
    }
   },
   "source": [
    "Так как наше p-значение = 0.727 что является высоким показателем по сравнению с выбранной альфой 0.05, то согласно статистическому выводу, мы не можем отклонить нулевую гипотезу H0, что означает наш сайт никак статистически значимо не влияет на уровень конверсии и повышение уровня конверсии - это случайность.\n",
    "\n",
    "Доверительный интервал для испытуемой группы [0.11, 0.13] или 11% и 13% соответственно:\n",
    "1. Он включает наш baseline\n",
    "2. Он не достигает нашей цели 15%\n",
    "\n",
    "Мы можем интерпритировать это как - наиболее вероятно, что реальный уровень конверсии сайта с новым дизайном будет близок к baseline чем к 15%, который мы определили по нашей цели. Таким образом у нас два выбора:\n",
    "1. Так как мы будем близко к baseline то в случае если сайт воспринимается \"красиво\" можно его оставить.\n",
    "2. Можно создать новую версию (потратить время, деньги, нервы) и опять протестировать, надо решать стоят ли затраты на новую версию 2% улучшения (покроются ли затраты на работу) - задача уже финансов, а может и вас :) Считается коэффициент окупаемости и ROI. Если да - можем попробовать еще раз.\n",
    "3. Ничего не менять.\n",
    "\n",
    "Конец."
   ]
  },
  {
   "cell_type": "code",
   "execution_count": null,
   "metadata": {
    "collapsed": false,
    "pycharm": {
     "name": "#%%\n"
    }
   },
   "outputs": [],
   "source": []
  }
 ],
 "metadata": {
  "kernelspec": {
   "display_name": "Python 3.10.2 64-bit",
   "language": "python",
   "name": "python3"
  },
  "language_info": {
   "codemirror_mode": {
    "name": "ipython",
    "version": 3
   },
   "file_extension": ".py",
   "mimetype": "text/x-python",
   "name": "python",
   "nbconvert_exporter": "python",
   "pygments_lexer": "ipython3",
   "version": "3.10.2"
  },
  "vscode": {
   "interpreter": {
    "hash": "b4d6ccb97ebf9ade2ba87c2f1b0e0c684573d6cdc066ba857a7a94db12539a05"
   }
  }
 },
 "nbformat": 4,
 "nbformat_minor": 0
}
