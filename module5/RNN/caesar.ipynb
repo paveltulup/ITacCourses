{
 "cells": [
  {
   "cell_type": "code",
   "execution_count": 1,
   "id": "surface-packing",
   "metadata": {
    "execution": {
     "iopub.execute_input": "2021-03-18T11:25:34.462103Z",
     "iopub.status.busy": "2021-03-18T11:25:34.460813Z",
     "iopub.status.idle": "2021-03-18T11:25:35.908158Z",
     "shell.execute_reply": "2021-03-18T11:25:35.907295Z"
    },
    "papermill": {
     "duration": 1.463457,
     "end_time": "2021-03-18T11:25:35.908322",
     "exception": false,
     "start_time": "2021-03-18T11:25:34.444865",
     "status": "completed"
    },
    "tags": []
   },
   "outputs": [
    {
     "name": "stderr",
     "output_type": "stream",
     "text": [
      "c:\\Users\\Pavel\\AppData\\Local\\Programs\\Python\\Python310\\lib\\site-packages\\tqdm\\auto.py:22: TqdmWarning: IProgress not found. Please update jupyter and ipywidgets. See https://ipywidgets.readthedocs.io/en/stable/user_install.html\n",
      "  from .autonotebook import tqdm as notebook_tqdm\n"
     ]
    }
   ],
   "source": [
    "from random import shuffle\n",
    "import time\n",
    "import torch\n",
    "from sklearn.model_selection import train_test_split"
   ]
  },
  {
   "cell_type": "code",
   "execution_count": 2,
   "id": "physical-processing",
   "metadata": {
    "execution": {
     "iopub.execute_input": "2021-03-18T11:25:35.938857Z",
     "iopub.status.busy": "2021-03-18T11:25:35.938169Z",
     "iopub.status.idle": "2021-03-18T11:25:35.941502Z",
     "shell.execute_reply": "2021-03-18T11:25:35.940934Z"
    },
    "papermill": {
     "duration": 0.021053,
     "end_time": "2021-03-18T11:25:35.941665",
     "exception": false,
     "start_time": "2021-03-18T11:25:35.920612",
     "status": "completed"
    },
    "tags": []
   },
   "outputs": [],
   "source": [
    "BATCH_SIZE = 10\n",
    "STRING_SIZE = 20\n",
    "NUM_EPOCHS = 30\n",
    "LEARNING_RATE = 0.01\n",
    "FILE_NAME = \"data/cook_book.txt\"\n",
    "DEVICE = torch.device(\"cuda:0\" if torch.cuda.is_available() else \"cpu\")\n",
    "CAESAR_OFFSET = 3"
   ]
  },
  {
   "cell_type": "markdown",
   "id": "bc1b0421",
   "metadata": {},
   "source": [
    "Alphabet class"
   ]
  },
  {
   "cell_type": "code",
   "execution_count": 3,
   "id": "provincial-omega",
   "metadata": {
    "execution": {
     "iopub.execute_input": "2021-03-18T11:25:36.001070Z",
     "iopub.status.busy": "2021-03-18T11:25:36.000289Z",
     "iopub.status.idle": "2021-03-18T11:25:36.200226Z",
     "shell.execute_reply": "2021-03-18T11:25:36.201255Z"
    },
    "papermill": {
     "duration": 0.223214,
     "end_time": "2021-03-18T11:25:36.201519",
     "exception": false,
     "start_time": "2021-03-18T11:25:35.978305",
     "status": "completed"
    },
    "tags": []
   },
   "outputs": [
    {
     "name": "stdout",
     "output_type": "stream",
     "text": [
      "Alphabet is:\n",
      " п»їThe ProjctGunbgBkfCsdip,yIa\n",
      "LwUSmlv.Y-:ARD1320[#689]EO/()*FHJNK_VMx4WвЃ·„‚€ВІѓіq№z;5Ђ™7Qњќ!\"%X'$\n",
      " 99 chars\n"
     ]
    }
   ],
   "source": [
    "class Alphabet(object):\n",
    "\n",
    "    def __init__(self):\n",
    "        self.letters = \"\"\n",
    "        self.idx = []\n",
    "        self.char_dict = {}\n",
    "\n",
    "    def __len__(self):\n",
    "        return len(self.letters)\n",
    "\n",
    "    def __contains__(self, item):\n",
    "        return item in self.letters\n",
    "\n",
    "    def __getitem__(self, item):\n",
    "        if isinstance(item, int):\n",
    "            return self.idx[item % len(self.letters)]\n",
    "        elif isinstance(item, str):\n",
    "            return self.char_dict[item]\n",
    "\n",
    "    def __str__(self):\n",
    "        letters = \"\".join(self.letters)\n",
    "        # print(letters)\n",
    "        return f\"Alphabet is:\\n {letters}\\n {len(letters)} chars\"\n",
    "\n",
    "    def load_from_file(self, file_path):\n",
    "        with open(file_path) as file:\n",
    "            while True:\n",
    "                text = file.read(STRING_SIZE)\n",
    "                if not text:\n",
    "                    break\n",
    "                for ch in text:\n",
    "                    if ch not in self.letters:\n",
    "                        self.letters += ch\n",
    "            self.idx = sorted(self.letters)\n",
    "            self.char_dict = {c: i for i, c in enumerate(self.idx)}\n",
    "            # print(self.char_dict)\n",
    "\n",
    "\n",
    "ALPHABET = Alphabet()\n",
    "ALPHABET.load_from_file(FILE_NAME)\n",
    "print(ALPHABET)"
   ]
  },
  {
   "cell_type": "markdown",
   "id": "fcf6ca6f",
   "metadata": {},
   "source": [
    "Sentence dataset class"
   ]
  },
  {
   "cell_type": "code",
   "execution_count": 4,
   "id": "fifty-regular",
   "metadata": {
    "execution": {
     "iopub.execute_input": "2021-03-18T11:25:36.265207Z",
     "iopub.status.busy": "2021-03-18T11:25:36.264131Z",
     "iopub.status.idle": "2021-03-18T11:25:36.267069Z",
     "shell.execute_reply": "2021-03-18T11:25:36.267646Z"
    },
    "papermill": {
     "duration": 0.02741,
     "end_time": "2021-03-18T11:25:36.267827",
     "exception": false,
     "start_time": "2021-03-18T11:25:36.240417",
     "status": "completed"
    },
    "tags": []
   },
   "outputs": [],
   "source": [
    "class SentenceDataset(torch.utils.data.Dataset):\n",
    "\n",
    "    def __init__(self, raw_data, alphabet):\n",
    "        super().__init__()\n",
    "        self._len = len(raw_data)\n",
    "        self.y = torch.tensor(\n",
    "            [[alphabet[ch] for ch in line] for line in raw_data]\n",
    "        ).to(DEVICE)\n",
    "        self.x = torch.tensor(\n",
    "            [[i + CAESAR_OFFSET for i in line] for line in self.y]\n",
    "        ).to(DEVICE)\n",
    "    \n",
    "    def __len__(self):\n",
    "        return self._len\n",
    "\n",
    "    def __getitem__(self, idx):\n",
    "        return self.x[idx], self.y[idx]"
   ]
  },
  {
   "cell_type": "code",
   "execution_count": 5,
   "id": "driven-adobe",
   "metadata": {
    "execution": {
     "iopub.execute_input": "2021-03-18T11:25:36.300104Z",
     "iopub.status.busy": "2021-03-18T11:25:36.299042Z",
     "iopub.status.idle": "2021-03-18T11:25:36.304960Z",
     "shell.execute_reply": "2021-03-18T11:25:36.305639Z"
    },
    "papermill": {
     "duration": 0.023336,
     "end_time": "2021-03-18T11:25:36.305842",
     "exception": false,
     "start_time": "2021-03-18T11:25:36.282506",
     "status": "completed"
    },
    "tags": []
   },
   "outputs": [],
   "source": [
    "def get_text_array(file_path, step):\n",
    "    text_array = []\n",
    "    with open(file_path) as file:\n",
    "        while True:\n",
    "            text = file.read(STRING_SIZE)\n",
    "            if not text:\n",
    "                break\n",
    "            text_array.append(text)\n",
    "    del text_array[-1]\n",
    "    return text_array"
   ]
  },
  {
   "cell_type": "markdown",
   "id": "3b58c3c3",
   "metadata": {},
   "source": [
    "Prepare data & dataloaders"
   ]
  },
  {
   "cell_type": "code",
   "execution_count": 6,
   "id": "optical-eating",
   "metadata": {
    "execution": {
     "iopub.execute_input": "2021-03-18T11:25:36.337162Z",
     "iopub.status.busy": "2021-03-18T11:25:36.336128Z",
     "iopub.status.idle": "2021-03-18T11:25:51.731772Z",
     "shell.execute_reply": "2021-03-18T11:25:51.731165Z"
    },
    "papermill": {
     "duration": 15.412692,
     "end_time": "2021-03-18T11:25:51.731932",
     "exception": false,
     "start_time": "2021-03-18T11:25:36.319240",
     "status": "completed"
    },
    "tags": []
   },
   "outputs": [],
   "source": [
    "raw_data = get_text_array(FILE_NAME, STRING_SIZE)\n",
    "\n",
    "train_data, test_data = train_test_split(raw_data, test_size=0.2, shuffle=True)\n",
    "test_data, val_data = train_test_split(test_data, test_size=0.5, shuffle=True)\n",
    "\n",
    "Y_val = torch.tensor([[ALPHABET[ch] for ch in line] for line in val_data])\n",
    "X_val = torch.tensor([[i + CAESAR_OFFSET for i in line] for line in Y_val])\n",
    "\n",
    "train_dl = torch.utils.data.DataLoader(\n",
    "    SentenceDataset(\n",
    "        train_data, ALPHABET\n",
    "    ),\n",
    "    batch_size=BATCH_SIZE,\n",
    "    shuffle=True,\n",
    "    drop_last=True\n",
    ")\n",
    "test_dl = torch.utils.data.DataLoader(\n",
    "    SentenceDataset(\n",
    "        test_data, ALPHABET\n",
    "    ),\n",
    "    batch_size=BATCH_SIZE,\n",
    "    shuffle=True,\n",
    "    drop_last=True\n",
    ")"
   ]
  },
  {
   "cell_type": "markdown",
   "id": "69693993",
   "metadata": {},
   "source": [
    "RNN architecture"
   ]
  },
  {
   "cell_type": "code",
   "execution_count": 7,
   "id": "initial-ebony",
   "metadata": {
    "execution": {
     "iopub.execute_input": "2021-03-18T11:25:51.794474Z",
     "iopub.status.busy": "2021-03-18T11:25:51.793530Z",
     "iopub.status.idle": "2021-03-18T11:25:51.796894Z",
     "shell.execute_reply": "2021-03-18T11:25:51.796274Z"
    },
    "papermill": {
     "duration": 0.023827,
     "end_time": "2021-03-18T11:25:51.797037",
     "exception": false,
     "start_time": "2021-03-18T11:25:51.773210",
     "status": "completed"
    },
    "tags": []
   },
   "outputs": [],
   "source": [
    "class RNNModel(torch.nn.Module):\n",
    "    \n",
    "    def __init__(self):\n",
    "        super().__init__()\n",
    "        self.embedding = torch.nn.Embedding(len(ALPHABET) + CAESAR_OFFSET, 32)\n",
    "        self.rnn = torch.nn.RNN(32, 128, batch_first=True)\n",
    "        self.linear = torch.nn.Linear(128, len(ALPHABET) + CAESAR_OFFSET)\n",
    "\n",
    "    def forward(self, sentence, state=None):\n",
    "        embedding = self.embedding(sentence)\n",
    "        o, h = self.rnn(embedding)\n",
    "        return self.linear(o)"
   ]
  },
  {
   "cell_type": "code",
   "execution_count": 8,
   "id": "juvenile-reducing",
   "metadata": {
    "execution": {
     "iopub.execute_input": "2021-03-18T11:25:51.834584Z",
     "iopub.status.busy": "2021-03-18T11:25:51.833782Z",
     "iopub.status.idle": "2021-03-18T11:25:51.855848Z",
     "shell.execute_reply": "2021-03-18T11:25:51.856477Z"
    },
    "papermill": {
     "duration": 0.044677,
     "end_time": "2021-03-18T11:25:51.856664",
     "exception": false,
     "start_time": "2021-03-18T11:25:51.811987",
     "status": "completed"
    },
    "tags": []
   },
   "outputs": [],
   "source": [
    "model = RNNModel().to(DEVICE)\n",
    "loss = torch.nn.CrossEntropyLoss().to(DEVICE)\n",
    "optimizer = torch.optim.SGD(model.parameters(), lr=LEARNING_RATE)"
   ]
  },
  {
   "cell_type": "markdown",
   "id": "1fe85698",
   "metadata": {},
   "source": [
    "Train and test"
   ]
  },
  {
   "cell_type": "code",
   "execution_count": 9,
   "id": "supported-wayne",
   "metadata": {
    "execution": {
     "iopub.execute_input": "2021-03-18T11:25:51.904315Z",
     "iopub.status.busy": "2021-03-18T11:25:51.898413Z",
     "iopub.status.idle": "2021-03-18T11:33:40.765018Z",
     "shell.execute_reply": "2021-03-18T11:33:40.764407Z"
    },
    "papermill": {
     "duration": 468.891649,
     "end_time": "2021-03-18T11:33:40.765174",
     "exception": false,
     "start_time": "2021-03-18T11:25:51.873525",
     "status": "completed"
    },
    "tags": []
   },
   "outputs": [
    {
     "name": "stdout",
     "output_type": "stream",
     "text": [
      "Epoch: 0, loss: 1136.5024, acc: 0.6970 | test loss: 69.7348, test acc: 0.8471 | 2.95 sec.\n",
      "Epoch: 1, loss: 388.4121, acc: 0.8839 | test loss: 36.7283, test acc: 0.9007 | 2.27 sec.\n",
      "Epoch: 2, loss: 238.1180, acc: 0.9284 | test loss: 25.9778, test acc: 0.9423 | 2.24 sec.\n",
      "Epoch: 3, loss: 177.3970, acc: 0.9471 | test loss: 20.5806, test acc: 0.9468 | 2.33 sec.\n",
      "Epoch: 4, loss: 145.2379, acc: 0.9515 | test loss: 17.4306, test acc: 0.9504 | 2.32 sec.\n",
      "Epoch: 5, loss: 125.1562, acc: 0.9532 | test loss: 15.2395, test acc: 0.9529 | 2.37 sec.\n",
      "Epoch: 6, loss: 110.8735, acc: 0.9581 | test loss: 13.5989, test acc: 0.9585 | 2.29 sec.\n",
      "Epoch: 7, loss: 99.7608, acc: 0.9653 | test loss: 12.3847, test acc: 0.9654 | 2.27 sec.\n",
      "Epoch: 8, loss: 90.8163, acc: 0.9705 | test loss: 11.3588, test acc: 0.9708 | 2.26 sec.\n",
      "Epoch: 9, loss: 83.2151, acc: 0.9729 | test loss: 10.4238, test acc: 0.9723 | 2.34 sec.\n",
      "Epoch: 10, loss: 76.7401, acc: 0.9742 | test loss: 9.6609, test acc: 0.9733 | 3.54 sec.\n",
      "Epoch: 11, loss: 71.0801, acc: 0.9752 | test loss: 8.9759, test acc: 0.9749 | 3.68 sec.\n",
      "Epoch: 12, loss: 66.1496, acc: 0.9768 | test loss: 8.3965, test acc: 0.9782 | 3.59 sec.\n",
      "Epoch: 13, loss: 61.8307, acc: 0.9787 | test loss: 7.8392, test acc: 0.9796 | 3.59 sec.\n",
      "Epoch: 14, loss: 57.9543, acc: 0.9798 | test loss: 7.3060, test acc: 0.9815 | 3.57 sec.\n",
      "Epoch: 15, loss: 54.5228, acc: 0.9812 | test loss: 6.9513, test acc: 0.9828 | 3.59 sec.\n",
      "Epoch: 16, loss: 51.3953, acc: 0.9832 | test loss: 6.5470, test acc: 0.9841 | 3.61 sec.\n",
      "Epoch: 17, loss: 48.5643, acc: 0.9847 | test loss: 6.2196, test acc: 0.9862 | 3.60 sec.\n",
      "Epoch: 18, loss: 45.9920, acc: 0.9860 | test loss: 5.8843, test acc: 0.9873 | 3.79 sec.\n",
      "Epoch: 19, loss: 43.6111, acc: 0.9877 | test loss: 5.5963, test acc: 0.9886 | 3.56 sec.\n",
      "Epoch: 20, loss: 41.4128, acc: 0.9890 | test loss: 5.3307, test acc: 0.9898 | 3.58 sec.\n",
      "Epoch: 21, loss: 39.3660, acc: 0.9903 | test loss: 5.0738, test acc: 0.9904 | 3.70 sec.\n",
      "Epoch: 22, loss: 37.3660, acc: 0.9910 | test loss: 4.8516, test acc: 0.9908 | 4.30 sec.\n",
      "Epoch: 23, loss: 35.7193, acc: 0.9913 | test loss: 4.6305, test acc: 0.9910 | 4.02 sec.\n",
      "Epoch: 24, loss: 34.0741, acc: 0.9916 | test loss: 4.4520, test acc: 0.9910 | 3.48 sec.\n",
      "Epoch: 25, loss: 32.5512, acc: 0.9917 | test loss: 4.2445, test acc: 0.9911 | 3.53 sec.\n",
      "Epoch: 26, loss: 31.1197, acc: 0.9919 | test loss: 4.0614, test acc: 0.9912 | 3.51 sec.\n",
      "Epoch: 27, loss: 29.7822, acc: 0.9921 | test loss: 3.9379, test acc: 0.9913 | 3.49 sec.\n",
      "Epoch: 28, loss: 28.5326, acc: 0.9922 | test loss: 3.7854, test acc: 0.9913 | 3.47 sec.\n",
      "Epoch: 29, loss: 27.3646, acc: 0.9923 | test loss: 3.6379, test acc: 0.9915 | 3.53 sec.\n"
     ]
    }
   ],
   "source": [
    "for epoch in range(NUM_EPOCHS):\n",
    "    train_loss, train_acc, iter_num = .0, .0, .0\n",
    "    start_epoch_time = time.time()\n",
    "    model.train()\n",
    "    for x_in, y_in in train_dl:\n",
    "        # x_in = x_in\n",
    "        y_in = y_in.view(1, -1).squeeze()\n",
    "        # print(y_in.shape)\n",
    "        optimizer.zero_grad()\n",
    "        # print(x_in.shape)\n",
    "        out = model.forward(x_in)\n",
    "        \n",
    "        out = out.view(-1, len(ALPHABET) + CAESAR_OFFSET)\n",
    "        # print(out.shape)\n",
    "        l = loss(out, y_in)\n",
    "        train_loss += l.item()\n",
    "        batch_acc = (out.argmax(dim=1) == y_in)\n",
    "        train_acc += batch_acc.sum().item() / batch_acc.shape[0]\n",
    "        l.backward()\n",
    "        optimizer.step()\n",
    "        iter_num += 1\n",
    "    print(\n",
    "        f\"Epoch: {epoch}, loss: {train_loss:.4f}, acc: \"\n",
    "        f\"{train_acc / iter_num:.4f}\",\n",
    "        end=\" | \"\n",
    "    )\n",
    "    test_loss, test_acc, iter_num = .0, .0, .0\n",
    "    model.eval()\n",
    "    for x_in, y_in in test_dl:\n",
    "        x_in = x_in\n",
    "        y_in = y_in.view(1, -1).squeeze()\n",
    "        out = model.forward(x_in).view(-1, len(ALPHABET) + CAESAR_OFFSET)\n",
    "        l = loss(out, y_in)\n",
    "        test_loss += l.item()\n",
    "        batch_acc = (out.argmax(dim=1) == y_in)\n",
    "        test_acc += batch_acc.sum().item() / batch_acc.shape[0]\n",
    "        iter_num += 1\n",
    "    print(\n",
    "        f\"test loss: {test_loss:.4f}, test acc: {test_acc / iter_num:.4f} | \"\n",
    "        f\"{time.time() - start_epoch_time:.2f} sec.\"\n",
    "    )"
   ]
  },
  {
   "cell_type": "markdown",
   "id": "e784d555",
   "metadata": {},
   "source": [
    "Examlpe from val"
   ]
  },
  {
   "cell_type": "code",
   "execution_count": 10,
   "id": "scientific-harrison",
   "metadata": {
    "execution": {
     "iopub.execute_input": "2021-03-18T11:33:40.827468Z",
     "iopub.status.busy": "2021-03-18T11:33:40.826584Z",
     "iopub.status.idle": "2021-03-18T11:33:41.046009Z",
     "shell.execute_reply": "2021-03-18T11:33:41.044804Z"
    },
    "papermill": {
     "duration": 0.254075,
     "end_time": "2021-03-18T11:33:41.046205",
     "exception": false,
     "start_time": "2021-03-18T11:33:40.792130",
     "status": "completed"
    },
    "tags": []
   },
   "outputs": [
    {
     "name": "stdout",
     "output_type": "stream",
     "text": [
      "Validation accuracy is : 0.9912\n",
      "--------------------\n",
      "Validation sentence is: \"over the top.\n",
      "Cover \"\n",
      "--------------------\n",
      "True sentence is:       \"over the top.\n",
      "Cover \"\n"
     ]
    }
   ],
   "source": [
    "idx = 44\n",
    "val_results = model(X_val.to(DEVICE)).argmax(dim=2)\n",
    "val_acc = (val_results == Y_val.to(DEVICE)).flatten()\n",
    "val_acc = (val_acc.sum() / val_acc.shape[0]).item()\n",
    "out_sentence = \"\".join([ALPHABET[i.item()] for i in val_results[idx]])\n",
    "true_sentence = \"\".join([ALPHABET[i.item()] for i in Y_val[idx]])\n",
    "print(f\"Validation accuracy is : {val_acc:.4f}\")\n",
    "print(\"-\" * 20)\n",
    "print(f\"Validation sentence is: \\\"{out_sentence}\\\"\")\n",
    "print(\"-\" * 20)\n",
    "print(f\"True sentence is:       \\\"{true_sentence}\\\"\")"
   ]
  }
 ],
 "metadata": {
  "kernelspec": {
   "display_name": "Python 3.10.2 64-bit",
   "language": "python",
   "name": "python3"
  },
  "language_info": {
   "codemirror_mode": {
    "name": "ipython",
    "version": 3
   },
   "file_extension": ".py",
   "mimetype": "text/x-python",
   "name": "python",
   "nbconvert_exporter": "python",
   "pygments_lexer": "ipython3",
   "version": "3.10.2"
  },
  "papermill": {
   "default_parameters": {},
   "duration": 495.568863,
   "end_time": "2021-03-18T11:33:41.970081",
   "environment_variables": {},
   "exception": null,
   "input_path": "__notebook__.ipynb",
   "output_path": "__notebook__.ipynb",
   "parameters": {},
   "start_time": "2021-03-18T11:25:26.401218",
   "version": "2.3.2"
  },
  "vscode": {
   "interpreter": {
    "hash": "b4d6ccb97ebf9ade2ba87c2f1b0e0c684573d6cdc066ba857a7a94db12539a05"
   }
  }
 },
 "nbformat": 4,
 "nbformat_minor": 5
}
