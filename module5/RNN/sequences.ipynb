{
 "cells": [
  {
   "cell_type": "code",
   "execution_count": 2,
   "id": "surface-packing",
   "metadata": {
    "execution": {
     "iopub.execute_input": "2021-03-18T11:25:34.462103Z",
     "iopub.status.busy": "2021-03-18T11:25:34.460813Z",
     "iopub.status.idle": "2021-03-18T11:25:35.908158Z",
     "shell.execute_reply": "2021-03-18T11:25:35.907295Z"
    },
    "papermill": {
     "duration": 1.463457,
     "end_time": "2021-03-18T11:25:35.908322",
     "exception": false,
     "start_time": "2021-03-18T11:25:34.444865",
     "status": "completed"
    },
    "tags": []
   },
   "outputs": [
    {
     "name": "stderr",
     "output_type": "stream",
     "text": [
      "c:\\Users\\tulup\\AppData\\Local\\Programs\\Python\\Python39\\lib\\site-packages\\tqdm\\auto.py:22: TqdmWarning: IProgress not found. Please update jupyter and ipywidgets. See https://ipywidgets.readthedocs.io/en/stable/user_install.html\n",
      "  from .autonotebook import tqdm as notebook_tqdm\n"
     ]
    }
   ],
   "source": [
    "from random import randint\n",
    "import time\n",
    "import torch\n",
    "\n",
    "from sklearn.model_selection import train_test_split"
   ]
  },
  {
   "cell_type": "code",
   "execution_count": 10,
   "id": "physical-processing",
   "metadata": {
    "execution": {
     "iopub.execute_input": "2021-03-18T11:25:35.938857Z",
     "iopub.status.busy": "2021-03-18T11:25:35.938169Z",
     "iopub.status.idle": "2021-03-18T11:25:35.941502Z",
     "shell.execute_reply": "2021-03-18T11:25:35.940934Z"
    },
    "papermill": {
     "duration": 0.021053,
     "end_time": "2021-03-18T11:25:35.941665",
     "exception": false,
     "start_time": "2021-03-18T11:25:35.920612",
     "status": "completed"
    },
    "tags": []
   },
   "outputs": [],
   "source": [
    "BATCH_SIZE = 20\n",
    "SEQUENCE_SIZE = 20\n",
    "NUM_SEQUENCES = 50000\n",
    "NUM_EPOCHS = 20\n",
    "LEARNING_RATE = 0.05\n",
    "DEVICE = torch.device(\"cuda:0\" if torch.cuda.is_available() else \"cpu\")"
   ]
  },
  {
   "cell_type": "code",
   "execution_count": 11,
   "id": "provincial-omega",
   "metadata": {
    "execution": {
     "iopub.execute_input": "2021-03-18T11:25:36.001070Z",
     "iopub.status.busy": "2021-03-18T11:25:36.000289Z",
     "iopub.status.idle": "2021-03-18T11:25:36.200226Z",
     "shell.execute_reply": "2021-03-18T11:25:36.201255Z"
    },
    "papermill": {
     "duration": 0.223214,
     "end_time": "2021-03-18T11:25:36.201519",
     "exception": false,
     "start_time": "2021-03-18T11:25:35.978305",
     "status": "completed"
    },
    "tags": []
   },
   "outputs": [],
   "source": [
    "class Generator(object):\n",
    "\n",
    "    def __init__(self):\n",
    "        self.x = []\n",
    "        self.y = []\n",
    "\n",
    "    def __len__(self):\n",
    "        return len(self.x)\n",
    "\n",
    "    def __str__(self):\n",
    "        return f\"X is:\\n{self.x}\\nY is:\\n{self.y}\"\n",
    "\n",
    "    def generate_sequence(self):\n",
    "        x = []\n",
    "        y = []\n",
    "        x.append(randint(0, 9))\n",
    "        y.append(x[0])\n",
    "        for i in range(SEQUENCE_SIZE-1):\n",
    "            xi = randint(0, 9)\n",
    "            yi = (xi + x[0])%10\n",
    "            x.append(xi)\n",
    "            y.append(yi)\n",
    "        return x, y\n",
    "    \n",
    "    def generate_sequences(self):\n",
    "        for i in range(NUM_SEQUENCES):\n",
    "            x, y = self.generate_sequence()\n",
    "            self.x.append(x)\n",
    "            self.y.append(y)\n"
   ]
  },
  {
   "cell_type": "code",
   "execution_count": 12,
   "id": "fifty-regular",
   "metadata": {
    "execution": {
     "iopub.execute_input": "2021-03-18T11:25:36.265207Z",
     "iopub.status.busy": "2021-03-18T11:25:36.264131Z",
     "iopub.status.idle": "2021-03-18T11:25:36.267069Z",
     "shell.execute_reply": "2021-03-18T11:25:36.267646Z"
    },
    "papermill": {
     "duration": 0.02741,
     "end_time": "2021-03-18T11:25:36.267827",
     "exception": false,
     "start_time": "2021-03-18T11:25:36.240417",
     "status": "completed"
    },
    "tags": []
   },
   "outputs": [],
   "source": [
    "class SequenceDataset(torch.utils.data.Dataset):\n",
    "\n",
    "    def __init__(self, x, y):\n",
    "        super().__init__()\n",
    "        self._len = len(x)\n",
    "        self.x = torch.tensor(x).to(DEVICE)\n",
    "        self.y = torch.tensor(y).to(DEVICE)\n",
    "\n",
    "    def __len__(self):\n",
    "        return self._len\n",
    "\n",
    "    def __getitem__(self, idx):\n",
    "        return self.x[idx], self.y[idx]"
   ]
  },
  {
   "cell_type": "code",
   "execution_count": 13,
   "id": "optical-eating",
   "metadata": {
    "execution": {
     "iopub.execute_input": "2021-03-18T11:25:36.337162Z",
     "iopub.status.busy": "2021-03-18T11:25:36.336128Z",
     "iopub.status.idle": "2021-03-18T11:25:51.731772Z",
     "shell.execute_reply": "2021-03-18T11:25:51.731165Z"
    },
    "papermill": {
     "duration": 15.412692,
     "end_time": "2021-03-18T11:25:51.731932",
     "exception": false,
     "start_time": "2021-03-18T11:25:36.319240",
     "status": "completed"
    },
    "tags": []
   },
   "outputs": [],
   "source": [
    "gen = Generator()\n",
    "gen.generate_sequences()\n",
    "\n",
    "X_train, X_test, Y_train, Y_test = train_test_split(gen.x, gen.y, test_size=0.2, shuffle=True)\n",
    "\n",
    "X_test, X_val, Y_test, Y_val = train_test_split(X_test, Y_test, test_size=0.5, shuffle=True)\n",
    "\n",
    "X_val = torch.tensor(X_val)\n",
    "Y_val = torch.tensor(Y_val)\n",
    "\n",
    "train_dl = torch.utils.data.DataLoader(\n",
    "    SequenceDataset(\n",
    "        X_train, Y_train\n",
    "    ),\n",
    "    batch_size=BATCH_SIZE,\n",
    "    shuffle=True,\n",
    "    drop_last=True\n",
    ")\n",
    "test_dl = torch.utils.data.DataLoader(\n",
    "    SequenceDataset(\n",
    "        X_test, Y_test\n",
    "    ),\n",
    "    batch_size=BATCH_SIZE,\n",
    "    shuffle=True,\n",
    "    drop_last=True\n",
    ")"
   ]
  },
  {
   "cell_type": "code",
   "execution_count": 14,
   "id": "initial-ebony",
   "metadata": {
    "execution": {
     "iopub.execute_input": "2021-03-18T11:25:51.794474Z",
     "iopub.status.busy": "2021-03-18T11:25:51.793530Z",
     "iopub.status.idle": "2021-03-18T11:25:51.796894Z",
     "shell.execute_reply": "2021-03-18T11:25:51.796274Z"
    },
    "papermill": {
     "duration": 0.023827,
     "end_time": "2021-03-18T11:25:51.797037",
     "exception": false,
     "start_time": "2021-03-18T11:25:51.773210",
     "status": "completed"
    },
    "tags": []
   },
   "outputs": [],
   "source": [
    "class RNNModel(torch.nn.Module):\n",
    "    \n",
    "    def __init__(self):\n",
    "        super().__init__()\n",
    "        self.embedding = torch.nn.Embedding(10, 32)\n",
    "        self.rnn = torch.nn.LSTM(32, 128, batch_first=True)\n",
    "        self.linear = torch.nn.Linear(128, 10)\n",
    "\n",
    "    def forward(self, sentence, state=None):\n",
    "        embedding = self.embedding(sentence)\n",
    "        o, h = self.rnn(embedding)\n",
    "        return self.linear(o)"
   ]
  },
  {
   "cell_type": "code",
   "execution_count": 15,
   "id": "juvenile-reducing",
   "metadata": {
    "execution": {
     "iopub.execute_input": "2021-03-18T11:25:51.834584Z",
     "iopub.status.busy": "2021-03-18T11:25:51.833782Z",
     "iopub.status.idle": "2021-03-18T11:25:51.855848Z",
     "shell.execute_reply": "2021-03-18T11:25:51.856477Z"
    },
    "papermill": {
     "duration": 0.044677,
     "end_time": "2021-03-18T11:25:51.856664",
     "exception": false,
     "start_time": "2021-03-18T11:25:51.811987",
     "status": "completed"
    },
    "tags": []
   },
   "outputs": [],
   "source": [
    "model = RNNModel().to(DEVICE)\n",
    "loss = torch.nn.CrossEntropyLoss().to(DEVICE)\n",
    "optimizer = torch.optim.SGD(model.parameters(), lr=LEARNING_RATE)"
   ]
  },
  {
   "cell_type": "code",
   "execution_count": 16,
   "id": "supported-wayne",
   "metadata": {
    "execution": {
     "iopub.execute_input": "2021-03-18T11:25:51.904315Z",
     "iopub.status.busy": "2021-03-18T11:25:51.898413Z",
     "iopub.status.idle": "2021-03-18T11:33:40.765018Z",
     "shell.execute_reply": "2021-03-18T11:33:40.764407Z"
    },
    "papermill": {
     "duration": 468.891649,
     "end_time": "2021-03-18T11:33:40.765174",
     "exception": false,
     "start_time": "2021-03-18T11:25:51.873525",
     "status": "completed"
    },
    "tags": []
   },
   "outputs": [
    {
     "name": "stdout",
     "output_type": "stream",
     "text": [
      "Epoch: 0, loss: 4594.1671, acc: 0.1405 | test loss: 573.7687, test acc: 0.1444 | 4.59 sec.\n",
      "Epoch: 1, loss: 4587.4591, acc: 0.1450 | test loss: 573.4676, test acc: 0.1444 | 4.55 sec.\n",
      "Epoch: 2, loss: 4584.6806, acc: 0.1450 | test loss: 573.0368, test acc: 0.1445 | 4.64 sec.\n",
      "Epoch: 3, loss: 4580.0654, acc: 0.1450 | test loss: 572.2070, test acc: 0.1444 | 4.58 sec.\n",
      "Epoch: 4, loss: 4566.1841, acc: 0.1452 | test loss: 569.0390, test acc: 0.1457 | 4.43 sec.\n",
      "Epoch: 5, loss: 4512.5608, acc: 0.1533 | test loss: 557.8044, test acc: 0.1620 | 4.52 sec.\n",
      "Epoch: 6, loss: 4345.9271, acc: 0.1889 | test loss: 556.7754, test acc: 0.1492 | 4.51 sec.\n",
      "Epoch: 7, loss: 4397.8383, acc: 0.1568 | test loss: 536.9816, test acc: 0.1750 | 4.55 sec.\n",
      "Epoch: 8, loss: 4081.8502, acc: 0.2214 | test loss: 472.3137, test acc: 0.2629 | 4.53 sec.\n",
      "Epoch: 9, loss: 3270.7293, acc: 0.3770 | test loss: 254.4637, test acc: 0.6770 | 4.50 sec.\n",
      "Epoch: 10, loss: 818.8022, acc: 0.9301 | test loss: 28.8318, test acc: 1.0000 | 4.48 sec.\n",
      "Epoch: 11, loss: 129.2360, acc: 0.9999 | test loss: 9.3378, test acc: 1.0000 | 4.48 sec.\n",
      "Epoch: 12, loss: 54.8826, acc: 1.0000 | test loss: 5.1362, test acc: 1.0000 | 4.48 sec.\n",
      "Epoch: 13, loss: 33.4782, acc: 1.0000 | test loss: 3.4474, test acc: 1.0000 | 4.43 sec.\n",
      "Epoch: 14, loss: 23.7124, acc: 1.0000 | test loss: 2.5653, test acc: 1.0000 | 4.47 sec.\n",
      "Epoch: 15, loss: 18.2021, acc: 1.0000 | test loss: 2.0307, test acc: 1.0000 | 4.47 sec.\n",
      "Epoch: 16, loss: 14.6944, acc: 1.0000 | test loss: 1.6693, test acc: 1.0000 | 4.47 sec.\n",
      "Epoch: 17, loss: 12.2970, acc: 1.0000 | test loss: 1.4148, test acc: 1.0000 | 4.47 sec.\n",
      "Epoch: 18, loss: 10.5116, acc: 1.0000 | test loss: 1.2239, test acc: 1.0000 | 4.48 sec.\n",
      "Epoch: 19, loss: 9.1669, acc: 1.0000 | test loss: 1.0759, test acc: 1.0000 | 4.50 sec.\n"
     ]
    }
   ],
   "source": [
    "for epoch in range(NUM_EPOCHS):\n",
    "    train_loss, train_acc, iter_num = .0, .0, .0\n",
    "    start_epoch_time = time.time()\n",
    "    model.train()\n",
    "    for x_in, y_in in train_dl:\n",
    "        y_in = y_in.view(1, -1).squeeze()\n",
    "        optimizer.zero_grad()\n",
    "        out = model.forward(x_in)\n",
    "        out = out.view(-1, 10)\n",
    "        l = loss(out, y_in)\n",
    "        train_loss += l.item()\n",
    "        batch_acc = (out.argmax(dim=1) == y_in)\n",
    "        train_acc += batch_acc.sum().item() / batch_acc.shape[0]\n",
    "        l.backward()\n",
    "        optimizer.step()\n",
    "        iter_num += 1\n",
    "    print(\n",
    "        f\"Epoch: {epoch}, loss: {train_loss:.4f}, acc: \"\n",
    "        f\"{train_acc / iter_num:.4f}\",\n",
    "        end=\" | \"\n",
    "    )\n",
    "    test_loss, test_acc, iter_num = .0, .0, .0\n",
    "    model.eval()\n",
    "    for x_in, y_in in test_dl:\n",
    "        x_in = x_in\n",
    "        y_in = y_in.view(1, -1).squeeze()\n",
    "        out = model.forward(x_in).view(-1, 10)\n",
    "        l = loss(out, y_in)\n",
    "        test_loss += l.item()\n",
    "        batch_acc = (out.argmax(dim=1) == y_in)\n",
    "        test_acc += batch_acc.sum().item() / batch_acc.shape[0]\n",
    "        iter_num += 1\n",
    "    print(\n",
    "        f\"test loss: {test_loss:.4f}, test acc: {test_acc / iter_num:.4f} | \"\n",
    "        f\"{time.time() - start_epoch_time:.2f} sec.\"\n",
    "    )"
   ]
  },
  {
   "cell_type": "code",
   "execution_count": 27,
   "id": "scientific-harrison",
   "metadata": {
    "execution": {
     "iopub.execute_input": "2021-03-18T11:33:40.827468Z",
     "iopub.status.busy": "2021-03-18T11:33:40.826584Z",
     "iopub.status.idle": "2021-03-18T11:33:41.046009Z",
     "shell.execute_reply": "2021-03-18T11:33:41.044804Z"
    },
    "papermill": {
     "duration": 0.254075,
     "end_time": "2021-03-18T11:33:41.046205",
     "exception": false,
     "start_time": "2021-03-18T11:33:40.792130",
     "status": "completed"
    },
    "tags": []
   },
   "outputs": [
    {
     "name": "stdout",
     "output_type": "stream",
     "text": [
      "Validation accuracy is : 0.9999\n",
      "--------------------\n",
      "Input sequence is:  \"[9 4 5 0 6 2 8 6 9 3 6 0 8 8 3 1 1 3 0 5]\"\n",
      "--------------------\n",
      "Output sequence is: \"[9 3 4 9 5 1 7 5 8 2 5 9 7 7 2 0 0 2 9 4]\"\n",
      "--------------------\n",
      "True sequence is:   \"[9 3 4 9 5 1 7 5 8 2 5 9 7 7 2 0 0 2 9 4]\"\n"
     ]
    }
   ],
   "source": [
    "idx = 5\n",
    "val_results = model(X_val.to(DEVICE)).argmax(dim=2)\n",
    "val_acc = (val_results == Y_val.to(DEVICE)).flatten()\n",
    "val_acc = (val_acc.sum() / val_acc.shape[0]).item()\n",
    "out = val_results[idx]\n",
    "true = Y_val[idx]\n",
    "print(f\"Validation accuracy is : {val_acc:.4f}\")\n",
    "print(\"-\" * 20)\n",
    "print(f\"Input sequence is:  \\\"{X_val[idx].numpy()}\\\"\")\n",
    "print(\"-\" * 20)\n",
    "print(f\"Output sequence is: \\\"{out.cpu().numpy()}\\\"\")\n",
    "print(\"-\" * 20)\n",
    "print(f\"True sequence is:   \\\"{true.numpy()}\\\"\")"
   ]
  },
  {
   "cell_type": "code",
   "execution_count": null,
   "id": "9e0400c0",
   "metadata": {},
   "outputs": [],
   "source": []
  }
 ],
 "metadata": {
  "kernelspec": {
   "display_name": "Python 3.9.7 64-bit",
   "language": "python",
   "name": "python3"
  },
  "language_info": {
   "codemirror_mode": {
    "name": "ipython",
    "version": 3
   },
   "file_extension": ".py",
   "mimetype": "text/x-python",
   "name": "python",
   "nbconvert_exporter": "python",
   "pygments_lexer": "ipython3",
   "version": "3.9.7"
  },
  "papermill": {
   "default_parameters": {},
   "duration": 495.568863,
   "end_time": "2021-03-18T11:33:41.970081",
   "environment_variables": {},
   "exception": null,
   "input_path": "__notebook__.ipynb",
   "output_path": "__notebook__.ipynb",
   "parameters": {},
   "start_time": "2021-03-18T11:25:26.401218",
   "version": "2.3.2"
  },
  "vscode": {
   "interpreter": {
    "hash": "f594278ec55319efa4a206eb62a97c9b2e168f52506c4e7fbd9621fbde81e389"
   }
  }
 },
 "nbformat": 4,
 "nbformat_minor": 5
}
